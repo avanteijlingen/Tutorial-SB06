{
 "cells": [
  {
   "cell_type": "code",
   "execution_count": null,
   "id": "5eae8c68",
   "metadata": {},
   "outputs": [],
   "source": [
    "import numpy as np\n",
    "import sys, time, pandas, itertools"
   ]
  },
  {
   "cell_type": "markdown",
   "id": "92beaba8",
   "metadata": {},
   "source": [
    "### Lets define our amino acids and a function to put them together into peptide labels"
   ]
  },
  {
   "cell_type": "code",
   "execution_count": null,
   "id": "0d1bc724",
   "metadata": {},
   "outputs": [],
   "source": [
    "Num2Word = {1:\"AminoAcids\",\n",
    "            2:\"Di\",\n",
    "            3:\"Tri\",\n",
    "            4:\"Tetra\",\n",
    "            5:\"Penta\",\n",
    "            6:\"Hexa\",\n",
    "            7:\"Hepta\",\n",
    "            8:\"Octa\",\n",
    "            9:\"Nona\",\n",
    "            10:\"Deca\",\n",
    "            11:\"Undeca\",\n",
    "            12:\"Dodeca\"}\n",
    "\n",
    "letters_1 = np.array([\"A\", \"C\", \"D\", \"E\", \"F\", \"G\", \"H\", \"I\", \"K\", \"L\", \"M\", \"N\", \"P\", \"Q\", \"R\", \"S\", \"T\", \"V\", \"W\", \"Y\"])\n",
    "\n",
    "def GenerateDatasetIndex(AminoAcids):\n",
    "    return [''.join(i) for i in itertools.product(letters_1, repeat = AminoAcids)]"
   ]
  },
  {
   "cell_type": "markdown",
   "id": "4a404741",
   "metadata": {},
   "source": [
    "### Define the type (di = 2, tri=3, etc) and list of peptides we will be using "
   ]
  },
  {
   "cell_type": "code",
   "execution_count": null,
   "id": "6e7aceb3",
   "metadata": {},
   "outputs": [],
   "source": [
    "L = 'number of amino acids'\n",
    "peptides = GenerateDatasetIndex(L)\n",
    "if len(peptides) < 500:\n",
    "    print(peptides)\n",
    "else:\n",
    "    print(\"Peptides:\", len(peptides))"
   ]
  },
  {
   "cell_type": "markdown",
   "id": "f8e1cde5",
   "metadata": {},
   "source": [
    "### Now lets define the amino acid specific parameters"
   ]
  },
  {
   "cell_type": "code",
   "execution_count": null,
   "id": "9278e8e4",
   "metadata": {},
   "outputs": [],
   "source": [
    "features = [\"SP2\", \"NH2\", \"MW\", \"S\", \"LogP WW\", \"Z\", \"MaxASA\", \"RotRatio\", \"Bulkiness\", \"OH\"]\n",
    "SP2 =       np.array([0,    0,   1,   1,   6,   0,   3,   0,   0,   0,   0,   1,   0,   1,   1,   0,   0,   0,   8,   6], dtype=np.float32)\n",
    "SP3 =       np.array([1,    1,   1,   2,   1,   0,   1,   4,   4,   4,   3,   1,   3,   2,   3,   1,   2,   3,   1,   1], dtype=np.float32)\n",
    "NH2 =       np.array([0,    0,   0,   0,   0,   0,   0,   0,   1,   0,   0,   1,   0,   1,   2,   0,   0,   0,   0,   0], dtype=np.float32)\n",
    "MW =        np.array([89.10, 121.16, 133.11, 147.13, 165.19, 75.07, 155.16, 131.18, 146.19, 131.18, 149.21, 132.12, 115.13, 146.15, 174.20, 105.09, 119.12, 117.15, 204.23, 181.19], dtype=np.float32)\n",
    "S =         np.array([0,    1,   0,   0,   0,   0,   0,   0,   0,   0,   1,   0,   0,   0,   0,   0,   0,   0,   0,   0], dtype=np.float32)\n",
    "charge =    np.array([0,    0,  -1,  -1,  0,    0,   0,   0,   1,   0,   0,   0,   0,   0,   1,   0,   0,   0,   0,   0], dtype=np.float32)\n",
    "# ASP, GLU, ARG and LYS are as charged side chains\n",
    "Gwif = np.array([0.17, -0.24, 1.23, 2.02, -1.13, 0.01, 0.17, -0.31, 0.99, -0.56, -0.23, 0.42, 0.45, 0.58, 0.81, 0.13, 0.14, 0.07, -1.85, -0.94, ], dtype=np.float32) \n",
    "Gwoct = np.array([0.5, -0.02, 3.64, 3.63, -1.71, 1.15, 0.11, -1.12, 2.8, -1.25, -0.67, 0.85, 0.14, 0.77, 1.81, 0.46, 0.25, -0.46, -2.09, -0.71, ], dtype=np.float32) \n",
    "#Tien et al. 2013 (theory)\n",
    "MaxASA =    np.array([129, 167, 193, 223, 240, 104, 224, 197, 236, 201, 224, 195, 159, 225, 274, 155, 172, 174, 285, 263], dtype=np.float32)\n",
    "# Zimmerman J.M., Eliezer N., Simha R. J. Theor. Biol. 21:170-201(1968).\n",
    "bulky =     np.array([11.50, 13.46, 11.68, 13.57, 19.80, 3.4, 13.69, 21.40, 15.71, 21.4, 16.25, 12.82, 17.43, 14.45, 14.28, 9.47, 15.77, 21.57, 21.67, 18.03], dtype=np.float32)\n",
    "OH =        np.array([0,  0,   0,   0,    0,     0,    0,   0,   0,  0,   0,  0,  0,    0,   0,  1,  1,    0,   0,  1], dtype=np.float32)\n",
    "#pI =        np.array([6.11,5.15,2.98,3.08,5.76,6.06, 7.64, 6.04, 9.47, 6.04, 5.71, 5.43, 6.30, 5.65, 11.5,5.07, 5.60,6.02,5.88,5.63], dtype=np.float32)\n"
   ]
  },
  {
   "cell_type": "markdown",
   "id": "1a91aceb",
   "metadata": {},
   "source": [
    "Define the max and min values possible within the peptide dataset so that the entire dataset may be normalized."
   ]
  },
  {
   "cell_type": "code",
   "execution_count": null,
   "id": "e538942c",
   "metadata": {},
   "outputs": [],
   "source": [
    "SP2_max = ((max(SP2)*L)/2.0).astype(np.float32) \n",
    "polytryptophan_index = [18]*L\n",
    "RotRatio_max = SP2[polytryptophan_index].sum() / SP3[polytryptophan_index].sum() \n",
    "RotRatio_max = np.float32(RotRatio_max/2.0)\n",
    "NH2_max = ((max(NH2)*L)/2.0).astype(np.float32)\n",
    "MW_min = (min(MW)*L).astype(np.float32)\n",
    "MW_max = (max(MW)*L).astype(np.float32)\n",
    "S_max = ((max(S)*L)/2.0).astype(np.float32)\n",
    "Z_min = (min(charge)*L).astype(np.float32)\n",
    "Z_max = (max(charge)*L).astype(np.float32)\n",
    "polyasparticacid_index = [2]*L\n",
    "LogP_WW_min = (Gwif[polyasparticacid_index] - Gwoct[polyasparticacid_index]).sum()\n",
    "polyisoleucine_index = [7]*L\n",
    "LogP_WW_max = (Gwif[polyisoleucine_index] - Gwoct[polyisoleucine_index]).sum()\n",
    "MaxASA_min = (min(MaxASA)*L).astype(np.float32)\n",
    "MaxASA_max = (max(MaxASA)*L).astype(np.float32)\n",
    "bulky_min = (min(bulky)*L).astype(np.float32)\n",
    "bulky_max = (max(bulky)*L).astype(np.float32)\n",
    "OH_max = ((max(OH)*L)/2.0).astype(np.float32)\n",
    "#pI_min = (min(pI)).astype(np.float32)\n",
    "#pI_max = (max(pI)).astype(np.float32)"
   ]
  },
  {
   "cell_type": "markdown",
   "id": "c7c01b4e",
   "metadata": {},
   "source": [
    "We need a function that finds the index of a particular peptide, AA = (0, 0), YY = (19,19)"
   ]
  },
  {
   "cell_type": "code",
   "execution_count": null,
   "id": "b1a2485f",
   "metadata": {},
   "outputs": [],
   "source": [
    "def pep2index(peptide):\n",
    "    L = len(peptide)\n",
    "    size = int(20**L)\n",
    "    solution = 0\n",
    "    letters_1 = np.array(list(\"ACDEFGHIKLMNPQRSTVWY\"))\n",
    "    for i in range(1, L+1):\n",
    "        index = np.where(letters_1 == peptide[i-1])[0][0]\n",
    "        number = int((size/(20**i)) * index)\n",
    "        solution += number\n",
    "    return solution\n",
    "\n",
    "peptide_numbers = np.zeros((len(peptides), L), dtype=np.uint8)\n",
    "for i,pep in enumerate(peptides):\n",
    "    for j,letter in enumerate(pep):\n",
    "        peptide_numbers[i][j] = pep2index(letter)\n",
    "        \n",
    "print(\"Example:\", peptides[45], peptide_numbers[45])"
   ]
  },
  {
   "cell_type": "markdown",
   "id": "7ef4bc97",
   "metadata": {},
   "source": [
    "Setup a pandas dataframe and write the values for each peptide to its columns"
   ]
  },
  {
   "cell_type": "code",
   "execution_count": null,
   "id": "5c7c7fd1",
   "metadata": {},
   "outputs": [],
   "source": [
    "pd_table = pandas.DataFrame()\n",
    "\n",
    "print(\"Judred_NH2\")\n",
    "pd_table[\"Judred_NH2\"] = NH2[peptide_numbers].sum(axis=1)\n",
    "pd_table[\"Judred_NH2\"] = (pd_table[\"Judred_NH2\"] / NH2_max) - np.float32(1.0)\n",
    "\n",
    "print(\"Judred_MW\")\n",
    "pd_table[\"Judred_MW\"] = MW[peptide_numbers].sum(axis=1) \n",
    "pd_table[\"Judred_MW\"] = pd_table[\"Judred_MW\"] - MW_min\n",
    "pd_table[\"Judred_MW\"] = pd_table[\"Judred_MW\"] / ((MW_max - MW_min)/2).astype(np.float32)\n",
    "pd_table[\"Judred_MW\"] = pd_table[\"Judred_MW\"] - np.float32(1.0)\n",
    "\n",
    "print(\"Judred_S\")\n",
    "pd_table[\"Judred_S\"] = S[peptide_numbers].sum(axis=1) \n",
    "pd_table[\"Judred_S\"] = (pd_table[\"Judred_S\"] / S_max) - np.float32(1.0)\n",
    "\n",
    "print(\"Judred_LogP WW\")\n",
    "pd_table[\"Judred_LogP WW\"] = (Gwif[peptide_numbers] - Gwoct[peptide_numbers]).sum(axis=1)\n",
    "pd_table[\"Judred_LogP WW\"] = pd_table[\"Judred_LogP WW\"] - LogP_WW_min\n",
    "pd_table[\"Judred_LogP WW\"] = pd_table[\"Judred_LogP WW\"] / ((LogP_WW_max - LogP_WW_min)/2.0).astype(np.float32)\n",
    "pd_table[\"Judred_LogP WW\"] = pd_table[\"Judred_LogP WW\"] - np.float32(1.0)\n",
    "\n",
    "print(\"Judred_Z\")\n",
    "pd_table[\"Judred_Z\"] = charge[peptide_numbers].sum(axis=1) \n",
    "pd_table[\"Judred_Z\"] = pd_table[\"Judred_Z\"] - Z_min\n",
    "pd_table[\"Judred_Z\"] = pd_table[\"Judred_Z\"] / ((Z_max - Z_min)/2.0).astype(np.float32)\n",
    "pd_table[\"Judred_Z\"] = pd_table[\"Judred_Z\"] - np.float32(1.0)\n",
    "        \n",
    "print(\"Judred_MaxASA\")\n",
    "pd_table[\"Judred_MaxASA\"] = MaxASA[peptide_numbers].sum(axis=1) \n",
    "pd_table[\"Judred_MaxASA\"] = pd_table[\"Judred_MaxASA\"] - MaxASA_min\n",
    "pd_table[\"Judred_MaxASA\"] = pd_table[\"Judred_MaxASA\"] / ((MaxASA_max - MaxASA_min)/2.0).astype(np.float32)\n",
    "pd_table[\"Judred_MaxASA\"] = pd_table[\"Judred_MaxASA\"] - np.float32(1.0)\n",
    "\n",
    "print(\"Judred_SP2 & Judred_RotRatio\")\n",
    "pd_table[\"Judred_SP2\"] = SP2[peptide_numbers].sum(axis=1) \n",
    "pd_table[\"Judred_RotRatio\"] = (pd_table[\"Judred_SP2\"]/(SP3[peptide_numbers].sum(axis=1)))\n",
    "pd_table[\"Judred_RotRatio\"] = np.nan_to_num(pd_table[\"Judred_RotRatio\"].values, copy=True)\n",
    "pd_table[\"Judred_RotRatio\"] = (pd_table[\"Judred_RotRatio\"] / RotRatio_max) - np.float32(1.0)\n",
    "pd_table[\"Judred_SP2\"] = (pd_table[\"Judred_SP2\"] / SP2_max) - np.float32(1.0)\n",
    "\n",
    "print(\"Judred_Bulkiness\")\n",
    "pd_table[\"Judred_Bulkiness\"] = bulky[peptide_numbers].sum(axis=1)\n",
    "pd_table[\"Judred_Bulkiness\"] = pd_table[\"Judred_Bulkiness\"] - bulky_min\n",
    "pd_table[\"Judred_Bulkiness\"] = pd_table[\"Judred_Bulkiness\"] / ((bulky_max - bulky_min)/2.0).astype(np.float32)\n",
    "pd_table[\"Judred_Bulkiness\"] = pd_table[\"Judred_Bulkiness\"] - np.float32(1.0)\n",
    "\n",
    "print(\"Judred_OH\")\n",
    "pd_table[\"Judred_OH\"] = OH[peptide_numbers].sum(axis=1) \n",
    "pd_table[\"Judred_OH\"] = (pd_table[\"Judred_OH\"] / OH_max) - np.float32(1.0)\n",
    "# Set the index to the peptide labels\n",
    "pd_table.index = peptides"
   ]
  },
  {
   "cell_type": "markdown",
   "id": "45426e2d",
   "metadata": {},
   "source": [
    "Save to file"
   ]
  },
  {
   "cell_type": "code",
   "execution_count": null,
   "id": "940fe9bf",
   "metadata": {},
   "outputs": [],
   "source": [
    "print(pd_table)\n",
    "pd_table.to_csv(Num2Word[L]+\"peptides_Judred.csv\")"
   ]
  },
  {
   "cell_type": "code",
   "execution_count": null,
   "id": "d775dc6c",
   "metadata": {},
   "outputs": [],
   "source": []
  }
 ],
 "metadata": {
  "kernelspec": {
   "display_name": "Python 3 (ipykernel)",
   "language": "python",
   "name": "python3"
  },
  "language_info": {
   "codemirror_mode": {
    "name": "ipython",
    "version": 3
   },
   "file_extension": ".py",
   "mimetype": "text/x-python",
   "name": "python",
   "nbconvert_exporter": "python",
   "pygments_lexer": "ipython3",
   "version": "3.10.9"
  }
 },
 "nbformat": 4,
 "nbformat_minor": 5
}
