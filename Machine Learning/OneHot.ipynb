{
 "cells": [
  {
   "cell_type": "code",
   "execution_count": 54,
   "id": "96a8298d",
   "metadata": {},
   "outputs": [],
   "source": [
    "from sklearn.preprocessing import OneHotEncoder\n",
    "from sklearn.neural_network import MLPRegressor\n",
    "from sklearn.ensemble import RandomForestRegressor\n",
    "from sklearn.model_selection import train_test_split\n",
    "import pandas\n",
    "import numpy as np\n",
    "import matplotlib.pyplot as plt"
   ]
  },
  {
   "cell_type": "code",
   "execution_count": 17,
   "id": "ff8a63b4",
   "metadata": {},
   "outputs": [
    {
     "name": "stdout",
     "output_type": "stream",
     "text": [
      "ALA-ALA-ARG-PRO-MET-GLY --> AARPMG\n"
     ]
    }
   ],
   "source": [
    "targets = pandas.read_csv(\"APs_Beyond.txt\", index_col = 0, header=None, sep=\" \")\n",
    "\n",
    "letters_1 = np.array([\"A\", \"C\", \"D\", \"E\", \"F\", \"G\", \"H\", \"I\", \"K\", \"L\", \"M\", \"N\", \"P\", \"Q\", \"R\", \"S\", \"T\", \"V\", \"W\", \"Y\"])\n",
    "letters_3 = np.array(['ALA', 'CYS', 'ASP', 'GLU', 'PHE', 'GLY', 'HSE', 'ILE', 'LYS', 'LEU', 'MET', 'ASN', 'PRO', 'GLN', 'ARG', 'SER', 'THR', 'VAL', 'TRP', 'TYR'], dtype='<U3')\n",
    "\n",
    "def translate3to1(string):\n",
    "    code = string.split(\"-\")\n",
    "    new_string = \"\"\n",
    "    for AA in code:\n",
    "        if AA == \"HIS\":\n",
    "            AA = \"HSE\"\n",
    "        index = np.where(letters_3 == AA)[0]\n",
    "        new_string = new_string + str(letters_1[index][0])\n",
    "    return \"\".join(new_string)\n",
    "\n",
    "targets.index = [translate3to1(index) for index in targets.index]\n",
    "targets = targets.reindex([x for x in targets.index if len(x) == 4])\n"
   ]
  },
  {
   "cell_type": "code",
   "execution_count": 18,
   "id": "9d6a9e3e",
   "metadata": {},
   "outputs": [
    {
     "name": "stdout",
     "output_type": "stream",
     "text": [
      "             1\n",
      "AAAA  1.062640\n",
      "AAAC  1.103924\n",
      "AACN  1.168115\n",
      "AAQW  1.740687\n",
      "AAEQ  1.064391\n",
      "...        ...\n",
      "VVVC  2.016710\n",
      "VVVF  2.272662\n",
      "VVVW  2.345190\n",
      "VVVY  2.291805\n",
      "VVVV  2.079618\n",
      "\n",
      "[17665 rows x 1 columns]\n"
     ]
    }
   ],
   "source": [
    "print(targets)"
   ]
  },
  {
   "cell_type": "code",
   "execution_count": 48,
   "id": "ac5261bf",
   "metadata": {
    "scrolled": true
   },
   "outputs": [
    {
     "name": "stdout",
     "output_type": "stream",
     "text": [
      "[['A' 'A' 'A' 'A']\n",
      " ['A' 'A' 'A' 'C']\n",
      " ['A' 'A' 'C' 'N']\n",
      " ...\n",
      " ['V' 'V' 'V' 'W']\n",
      " ['V' 'V' 'V' 'Y']\n",
      " ['V' 'V' 'V' 'V']]\n"
     ]
    }
   ],
   "source": [
    "letter_format = np.vstack([list(x) for x in targets.index])\n",
    "print(letter_format)"
   ]
  },
  {
   "cell_type": "code",
   "execution_count": 55,
   "id": "d53a9e29",
   "metadata": {},
   "outputs": [
    {
     "name": "stdout",
     "output_type": "stream",
     "text": [
      "[1. 0. 0. 0. 0. 0. 0. 0. 0. 0. 0. 0. 0. 0. 0. 0. 0. 0. 0. 0. 1. 0. 0. 0.\n",
      " 0. 0. 0. 0. 0. 0. 0. 0. 0. 0. 0. 0. 0. 0. 0. 0. 1. 0. 0. 0. 0. 0. 0. 0.\n",
      " 0. 0. 0. 0. 0. 0. 0. 0. 0. 0. 0. 0. 1. 0. 0. 0. 0. 0. 0. 0. 0. 0. 0. 0.\n",
      " 0. 0. 0. 0. 0. 0. 0. 0.]\n"
     ]
    }
   ],
   "source": [
    "enc = OneHotEncoder(handle_unknown='ignore')\n",
    "enc.fit(letter_format)\n",
    "\n",
    "encoded = enc.transform(letter_format).toarray()\n",
    "print(encoded[0])"
   ]
  },
  {
   "cell_type": "code",
   "execution_count": 56,
   "id": "3b1f59ca",
   "metadata": {},
   "outputs": [],
   "source": [
    "model = MLPRegressor(hidden_layer_sizes=(100,), activation='relu', solver='adam', alpha=0.0001, batch_size='auto', learning_rate='constant', learning_rate_init=0.001, power_t=0.5, max_iter=200, shuffle=True, random_state=None, tol=0.0001, verbose=False, warm_start=False, momentum=0.9, nesterovs_momentum=True, early_stopping=False, validation_fraction=0.1, beta_1=0.9, beta_2=0.999, epsilon=1e-08, n_iter_no_change=10, max_fun=15000)\n",
    "#model = RandomForestRegressor()"
   ]
  },
  {
   "cell_type": "code",
   "execution_count": 57,
   "id": "4865d4d7",
   "metadata": {},
   "outputs": [],
   "source": [
    "X_train, X_test, y_train, y_test = train_test_split(encoded, targets[1], test_size=0.33, random_state=9876, shuffle=True)"
   ]
  },
  {
   "cell_type": "code",
   "execution_count": 59,
   "id": "d142f3a6",
   "metadata": {},
   "outputs": [
    {
     "data": {
      "text/plain": [
       "Text(0, 0.5, 'Measured AP')"
      ]
     },
     "execution_count": 59,
     "metadata": {},
     "output_type": "execute_result"
    },
    {
     "data": {
      "image/png": "[encoded data removed]",
      "text/plain": [
       "<Figure size 432x288 with 1 Axes>"
      ]
     },
     "metadata": {
      "needs_background": "light"
     },
     "output_type": "display_data"
    }
   ],
   "source": [
    "model.fit(X_train, y_train)\n",
    "\n",
    "pred = model.predict(X_test)\n",
    "\n",
    "\n",
    "plt.scatter(pred, y_test)\n",
    "plt.plot([1,2.7], [1,2.7], lw=1, color=\"black\")\n",
    "plt.xlabel(\"Predicted AP\")\n",
    "plt.ylabel(\"Measured AP\")"
   ]
  },
  {
   "cell_type": "code",
   "execution_count": 46,
   "id": "c2231dce",
   "metadata": {},
   "outputs": [
    {
     "data": {
      "text/plain": [
       "[<matplotlib.lines.Line2D at 0x262697a3610>]"
      ]
     },
     "execution_count": 46,
     "metadata": {},
     "output_type": "execute_result"
    },
    {
     "data": {
      "image/png": "[encoded data removed]",
      "text/plain": [
       "<Figure size 432x288 with 1 Axes>"
      ]
     },
     "metadata": {
      "needs_background": "light"
     },
     "output_type": "display_data"
    }
   ],
   "source": [
    "reduced_sample = np.random.choice(np.arange(encoded.shape[0]), 400, replace=False)\n",
    "X_train, X_test, y_train, y_test = train_test_split(encoded[reduced_sample], targets[1].iloc[reduced_sample], test_size=0.33, random_state=9876, shuffle=True)\n",
    "\n",
    "model.fit(X_train, y_train)\n",
    "\n",
    "pred = model.predict(X_test)\n",
    "\n",
    "\n",
    "plt.scatter(pred, y_test)\n",
    "plt.plot([1,2.7], [1,2.7], lw=1, color=\"black\")\n"
   ]
  },
  {
   "cell_type": "code",
   "execution_count": null,
   "id": "69a4361a",
   "metadata": {},
   "outputs": [],
   "source": []
  }
 ],
 "metadata": {
  "kernelspec": {
   "display_name": "Python 3 (ipykernel)",
   "language": "python",
   "name": "python3"
  },
  "language_info": {
   "codemirror_mode": {
    "name": "ipython",
    "version": 3
   },
   "file_extension": ".py",
   "mimetype": "text/x-python",
   "name": "python",
   "nbconvert_exporter": "python",
   "pygments_lexer": "ipython3",
   "version": "3.8.5"
  }
 },
 "nbformat": 4,
 "nbformat_minor": 5
}
