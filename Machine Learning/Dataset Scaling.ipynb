{
 "cells": [
  {
   "cell_type": "markdown",
   "id": "b652a741",
   "metadata": {},
   "source": [
    "# Machine learning typically works better with more data to learn from"
   ]
  },
  {
   "cell_type": "code",
   "execution_count": null,
   "id": "bbbc9b12",
   "metadata": {},
   "outputs": [],
   "source": [
    "from sklearn.svm import SVR\n",
    "from sklearn.ensemble import RandomForestRegressor, GradientBoostingRegressor\n",
    "from sklearn.model_selection import GridSearchCV, train_test_split, KFold\n",
    "import matplotlib.pyplot as plt\n",
    "import numpy as np\n",
    "import os, pandas, warnings\n",
    "from sklearn.neural_network import MLPRegressor\n",
    "from sklearn.metrics import mean_squared_error, r2_score\n",
    "\n",
    "Seed = 72993\n",
    "np.random.seed(Seed)\n",
    "nJobs = 2\n",
    "\n",
    "warnings.filterwarnings(\"ignore\")\n",
    "\n",
    "letters_1 = np.array([\"A\", \"C\", \"D\", \"E\", \"F\", \"G\", \"H\", \"I\", \"K\", \"L\", \"M\", \"N\", \"P\", \"Q\", \"R\", \"S\", \"T\", \"V\", \"W\", \"Y\"])\n",
    "letters_3 = np.array(['ALA', 'CYS', 'ASP', 'GLU', 'PHE', 'GLY', 'HSE', 'ILE', 'LYS', 'LEU', 'MET', 'ASN', 'PRO', 'GLN', 'ARG', 'SER', 'THR', 'VAL', 'TRP', 'TYR'], dtype='<U3')\n"
   ]
  },
  {
   "cell_type": "code",
   "execution_count": null,
   "id": "b7414c51",
   "metadata": {},
   "outputs": [],
   "source": [
    "Hyperparameters = {\"C\": 100, \"epsilon\": 0.1, \"gamma\": \"scale\", \"kernel\": \"rbf\", \"max_iter\": -1, \"tol\": 0.0001, \"verbose\": 0}\n",
    "\n",
    "model = SVR(**Hyperparameters)\n",
    "\n",
    "L = 3"
   ]
  },
  {
   "cell_type": "code",
   "execution_count": null,
   "id": "d443e663",
   "metadata": {},
   "outputs": [],
   "source": [
    "parameters = pandas.read_csv(\"Tripeptides_Judred.csv\", index_col=0)\n",
    "\n",
    "\n",
    "# This dataset stores peptides as 3-letter codes, so we need to translate to make it concur with the input parameters dataset\n",
    "targets = pandas.read_csv(\"APs_Beyond.txt\", index_col = 0, header=None, sep=\" \")\n",
    "\n",
    "def translate3to1(string):\n",
    "    code = string.split(\"-\")\n",
    "    new_string = \"\"\n",
    "    for AA in code:\n",
    "        if AA == \"HIS\":\n",
    "            AA = \"HSE\"\n",
    "        index = np.where(letters_3 == AA)[0]\n",
    "        new_string = new_string + str(letters_1[index][0])\n",
    "    return \"\".join(new_string)\n",
    "\n",
    "print(\"ALA-ALA-ARG-PRO-MET-GLY\", \"-->\", translate3to1(\"ALA-ALA-ARG-PRO-MET-GLY\"))\n",
    "\n",
    "targets.index = [translate3to1(index) for index in targets.index]\n",
    "\n",
    "#print(targets)\n",
    "\n",
    "Forcefield = \"2.1\" # These are all martini 2.1\n",
    "\n",
    "# Filter for tripeptides\n",
    "targets = targets.reindex([x for x in targets.index if len(x) == 3])\n",
    "\n",
    "#Make sure that parameters and their targets are indexed in the same order\n",
    "\n",
    "parameters = parameters.reindex(targets.index)\n",
    "print(parameters)\n",
    "print(targets)\n",
    "\n"
   ]
  },
  {
   "cell_type": "code",
   "execution_count": null,
   "id": "3b403801",
   "metadata": {},
   "outputs": [],
   "source": [
    "# Split the dataset\n",
    "X_train, X_val, y_train, y_val = train_test_split(parameters, targets, test_size=0.33, random_state=9876, shuffle=True)\n",
    "#X_train, X_test, y_train, y_test = train_test_split(X_train, y_train, test_size=0.33, random_state=9876, shuffle=True)"
   ]
  },
  {
   "cell_type": "code",
   "execution_count": null,
   "id": "b59f4e53",
   "metadata": {},
   "outputs": [],
   "source": [
    "# Define the hyperparameters we want to test\n",
    "SVRrbf_param_grid = {\n",
    "        \"kernel\": [\"rbf\"],\n",
    "        \"gamma\": [\"scale\", \"auto\"],\n",
    "        \"C\": [0.1, 1, 10, 100], \n",
    "        \"epsilon\": np.linspace(0.1, 1, 10), \n",
    "        \"max_iter\": [-1],\n",
    "        \"tol\": [0.01, 0.001, 0.0001], \n",
    "        \"verbose\":[0]}\n",
    "\n",
    "model = SVR()\n",
    "HPO_model = GridSearchCV(estimator = model, param_grid = SVRrbf_param_grid, cv = 5, n_jobs = nJobs, verbose = True, error_score=0.0)\n",
    "HPO_model.fit(X_train.values, y_train.values.reshape(-1))\n",
    "print(\"\\nBest params from grid search:\")\n",
    "print(HPO_model.best_params_)\n",
    "SVMrbf_hyperparameters = HPO_model.best_params_\n"
   ]
  },
  {
   "cell_type": "code",
   "execution_count": null,
   "id": "eed654cb",
   "metadata": {},
   "outputs": [],
   "source": [
    "SVMmodel = SVR(**SVMrbf_hyperparameters)\n",
    "SVMmodel.fit(X_train, y_train)\n",
    "SVM_predictions = SVMmodel.predict(X_val)\n",
    "SVM_rmse = mean_squared_error(y_val, SVM_predictions, squared=False)\n",
    "print(\"Support vector machine RMSE:\", SVM_rmse)\n",
    "\n",
    "plt.scatter(SVM_predictions, y_val, label=\"SVM\")\n",
    "\n",
    "plt.plot([1,2.7], [1,2.7], lw=1, c=\"black\")\n",
    "plt.xlabel(\"Predicted AP\")\n",
    "plt.ylabel(\"True AP\")\n",
    "plt.gcf().set_dpi(100)\n",
    "plt.legend()\n",
    "plt.show()"
   ]
  }
 ],
 "metadata": {
  "kernelspec": {
   "display_name": "Python 3 (ipykernel)",
   "language": "python",
   "name": "python3"
  },
  "language_info": {
   "codemirror_mode": {
    "name": "ipython",
    "version": 3
   },
   "file_extension": ".py",
   "mimetype": "text/x-python",
   "name": "python",
   "nbconvert_exporter": "python",
   "pygments_lexer": "ipython3",
   "version": "3.10.9"
  }
 },
 "nbformat": 4,
 "nbformat_minor": 5
}
