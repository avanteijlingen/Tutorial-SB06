{
 "cells": [
  {
   "cell_type": "markdown",
   "id": "b652a741",
   "metadata": {},
   "source": [
    "# Machine learning typically works better with more data to learn from"
   ]
  },
  {
   "cell_type": "code",
   "execution_count": 1,
   "id": "bbbc9b12",
   "metadata": {},
   "outputs": [],
   "source": [
    "from sklearn.svm import SVR\n",
    "from sklearn.ensemble import RandomForestRegressor, GradientBoostingRegressor\n",
    "from sklearn.model_selection import GridSearchCV, train_test_split, KFold\n",
    "import matplotlib.pyplot as plt\n",
    "import numpy as np\n",
    "import os, pandas, warnings\n",
    "from sklearn.neural_network import MLPRegressor\n",
    "from sklearn.metrics import mean_squared_error, r2_score\n",
    "\n",
    "Seed = 72993\n",
    "np.random.seed(Seed)\n",
    "nJobs = 2\n",
    "\n",
    "warnings.filterwarnings(\"ignore\")\n",
    "\n",
    "letters_1 = np.array([\"A\", \"C\", \"D\", \"E\", \"F\", \"G\", \"H\", \"I\", \"K\", \"L\", \"M\", \"N\", \"P\", \"Q\", \"R\", \"S\", \"T\", \"V\", \"W\", \"Y\"])\n",
    "letters_3 = np.array(['ALA', 'CYS', 'ASP', 'GLU', 'PHE', 'GLY', 'HSE', 'ILE', 'LYS', 'LEU', 'MET', 'ASN', 'PRO', 'GLN', 'ARG', 'SER', 'THR', 'VAL', 'TRP', 'TYR'], dtype='<U3')\n"
   ]
  },
  {
   "cell_type": "code",
   "execution_count": 2,
   "id": "b7414c51",
   "metadata": {},
   "outputs": [],
   "source": [
    "Hyperparameters = {\"C\": 100, \"epsilon\": 0.1, \"gamma\": \"scale\", \"kernel\": \"rbf\", \"max_iter\": -1, \"tol\": 0.0001, \"verbose\": 0}\n",
    "\n",
    "model = SVR(**Hyperparameters)\n",
    "\n",
    "L = 3"
   ]
  },
  {
   "cell_type": "code",
   "execution_count": 8,
   "id": "d443e663",
   "metadata": {},
   "outputs": [
    {
     "name": "stdout",
     "output_type": "stream",
     "text": [
      "ALA-ALA-ARG-PRO-MET-GLY --> AARPMG\n",
      "                 1\n",
      "AA        1.032729\n",
      "AAA       1.041021\n",
      "AAAA      1.062640\n",
      "AAAAA     1.090202\n",
      "AAAAAA    1.453839\n",
      "...            ...\n",
      "VVVVVPF   2.080066\n",
      "VVVVVV    2.143019\n",
      "VVVVVVF   2.131534\n",
      "VVVVVVV   2.144234\n",
      "VVVVVVVV  2.118980\n",
      "\n",
      "[60039 rows x 1 columns]\n",
      "            1\n",
      "AAA  1.041021\n",
      "AAR  1.007968\n",
      "AAN  1.025092\n",
      "AAD  1.039086\n",
      "AAC  1.045073\n",
      "..        ...\n",
      "VVS  1.894561\n",
      "VVT  1.808526\n",
      "VVW  2.576469\n",
      "VVY  2.181210\n",
      "VVV  2.034583\n",
      "\n",
      "[8000 rows x 1 columns]\n"
     ]
    }
   ],
   "source": [
    "parameters = pandas.read_csv(\"Tripeptides_Judred.csv\", index_col=0)\n",
    "\n",
    "\n",
    "# This dataset stores peptides as 3-letter codes, so we need to translate to make it concur with the input parameters dataset\n",
    "targets = pandas.read_csv(\"APs_Beyond.txt\", index_col = 0, header=None, sep=\" \")\n",
    "\n",
    "def translate3to1(string):\n",
    "    code = string.split(\"-\")\n",
    "    new_string = \"\"\n",
    "    for AA in code:\n",
    "        if AA == \"HIS\":\n",
    "            AA = \"HSE\"\n",
    "        index = np.where(letters_3 == AA)[0]\n",
    "        new_string = new_string + str(letters_1[index][0])\n",
    "    return \"\".join(new_string)\n",
    "\n",
    "print(\"ALA-ALA-ARG-PRO-MET-GLY\", \"-->\", translate3to1(\"ALA-ALA-ARG-PRO-MET-GLY\"))\n",
    "\n",
    "targets.index = [translate3to1(index) for index in targets.index]\n",
    "\n",
    "print(targets)\n",
    "\n",
    "Forcefield = \"2.1\" # These are all martini 2.1\n",
    "\n",
    "targets = targets.reindex([x for x in targets.index if len(x) == 3])\n",
    "\n",
    "print(targets)\n",
    "#X_train, X_val, y_train, y_val = train_test_split(parameters, targets, test_size=0.33, random_state=9876, shuffle=True)\n",
    "#X_train, X_test, y_train, y_test = train_test_split(X_train, y_train, test_size=0.33, random_state=9876, shuffle=True)\n"
   ]
  },
  {
   "cell_type": "code",
   "execution_count": null,
   "id": "3b403801",
   "metadata": {},
   "outputs": [],
   "source": []
  },
  {
   "cell_type": "code",
   "execution_count": null,
   "id": "b59f4e53",
   "metadata": {},
   "outputs": [],
   "source": [
    "print(targets)"
   ]
  },
  {
   "cell_type": "code",
   "execution_count": null,
   "id": "eed654cb",
   "metadata": {},
   "outputs": [],
   "source": []
  }
 ],
 "metadata": {
  "kernelspec": {
   "display_name": "Python 3 (ipykernel)",
   "language": "python",
   "name": "python3"
  },
  "language_info": {
   "codemirror_mode": {
    "name": "ipython",
    "version": 3
   },
   "file_extension": ".py",
   "mimetype": "text/x-python",
   "name": "python",
   "nbconvert_exporter": "python",
   "pygments_lexer": "ipython3",
   "version": "3.8.5"
  }
 },
 "nbformat": 4,
 "nbformat_minor": 5
}
