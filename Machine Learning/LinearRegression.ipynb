{
 "cells": [
  {
   "cell_type": "code",
   "execution_count": null,
   "id": "ac13adb8",
   "metadata": {},
   "outputs": [],
   "source": [
    "import numpy as np\n",
    "import matplotlib.pyplot as plt\n",
    "from sklearn.metrics import mean_squared_error, mean_absolute_error"
   ]
  },
  {
   "cell_type": "code",
   "execution_count": null,
   "id": "1274decc",
   "metadata": {},
   "outputs": [],
   "source": [
    "def func(X):\n",
    "    return 1 - X**3 "
   ]
  },
  {
   "cell_type": "code",
   "execution_count": null,
   "id": "49925e1e",
   "metadata": {},
   "outputs": [],
   "source": [
    "X = np.arange(2, 10)\n",
    "Y = func(X)\n",
    "\n",
    "plt.scatter(X, Y)"
   ]
  },
  {
   "cell_type": "code",
   "execution_count": null,
   "id": "4e1eb326",
   "metadata": {},
   "outputs": [],
   "source": [
    "coef = 1\n",
    "bias = 1\n",
    "alpha = 0.001 #\"learning rate\"\n",
    "decay = 1"
   ]
  },
  {
   "cell_type": "code",
   "execution_count": null,
   "id": "ee489684",
   "metadata": {},
   "outputs": [],
   "source": [
    "def predict(x, coef, bias):\n",
    "    return (X*coef) + bias"
   ]
  },
  {
   "cell_type": "code",
   "execution_count": null,
   "id": "cef7c1b4",
   "metadata": {},
   "outputs": [],
   "source": [
    "history = []\n",
    "for iteration in range(150):\n",
    "    y_pred = predict(X, coef, bias)\n",
    "    \n",
    "       \n",
    "    rmse = mean_squared_error(Y, y_pred, squared=False)\n",
    "    \n",
    "    \n",
    "\n",
    "    \n",
    "    prod = Y - y_pred \n",
    "    coef += np.mean(alpha * (2 * 1/decay * X) * prod)\n",
    "    \n",
    "    print(iteration, rmse, coef, bias, decay)#, alpha * (2 * 1/decay * X), coef)\n",
    "    \n",
    "    history.append(rmse)\n",
    "    \n",
    "    y_pred = predict(X, coef, bias)\n",
    "    bias = mean_absolute_error(Y, y_pred)\n",
    "    \n",
    "    # Decay on platue\n",
    "    if iteration > 10:\n",
    "        if abs(history[iteration] - history[iteration-10]) < 1:\n",
    "            decay += 1"
   ]
  },
  {
   "cell_type": "code",
   "execution_count": null,
   "id": "8420d84d",
   "metadata": {},
   "outputs": [],
   "source": [
    "plt.scatter(X, Y, label=\"True\")\n",
    "plt.scatter(X, y_pred, label=\"Linear regression\")\n",
    "plt.legend()\n",
    "plt.show()"
   ]
  },
  {
   "cell_type": "code",
   "execution_count": null,
   "id": "cb139e32",
   "metadata": {},
   "outputs": [],
   "source": [
    "plt.plot(history, label=\"RMSE over iterations\")\n",
    "plt.legend()"
   ]
  }
 ],
 "metadata": {
  "kernelspec": {
   "display_name": "Python 3 (ipykernel)",
   "language": "python",
   "name": "python3"
  },
  "language_info": {
   "codemirror_mode": {
    "name": "ipython",
    "version": 3
   },
   "file_extension": ".py",
   "mimetype": "text/x-python",
   "name": "python",
   "nbconvert_exporter": "python",
   "pygments_lexer": "ipython3",
   "version": "3.10.9"
  }
 },
 "nbformat": 4,
 "nbformat_minor": 5
}
