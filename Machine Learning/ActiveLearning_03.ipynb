{
 "cells": [
  {
   "cell_type": "code",
   "execution_count": 1,
   "id": "a3c20b63",
   "metadata": {},
   "outputs": [],
   "source": [
    "from sklearn.svm import SVR\n",
    "from sklearn.ensemble import RandomForestRegressor, GradientBoostingRegressor\n",
    "from sklearn.model_selection import GridSearchCV, train_test_split, KFold\n",
    "import matplotlib.pyplot as plt\n",
    "import numpy as np\n",
    "import os, pandas, warnings\n",
    "from sklearn.neural_network import MLPRegressor\n",
    "from sklearn.metrics import mean_squared_error, r2_score\n",
    "\n",
    "Seed = 72993\n",
    "np.random.seed(Seed)\n",
    "nJobs = 2\n",
    "\n",
    "warnings.filterwarnings(\"ignore\")\n",
    "\n",
    "letters_1 = np.array([\"A\", \"C\", \"D\", \"E\", \"F\", \"G\", \"H\", \"I\", \"K\", \"L\", \"M\", \"N\", \"P\", \"Q\", \"R\", \"S\", \"T\", \"V\", \"W\", \"Y\"])\n",
    "letters_3 = np.array(['ALA', 'CYS', 'ASP', 'GLU', 'PHE', 'GLY', 'HSE', 'ILE', 'LYS', 'LEU', 'MET', 'ASN', 'PRO', 'GLN', 'ARG', 'SER', 'THR', 'VAL', 'TRP', 'TYR'], dtype='<U3')\n"
   ]
  },
  {
   "cell_type": "markdown",
   "id": "dbac9eba",
   "metadata": {},
   "source": [
    "#### You will need to run Judred with L = 4 to get the parameters for running this"
   ]
  },
  {
   "cell_type": "code",
   "execution_count": 2,
   "id": "55890d13",
   "metadata": {},
   "outputs": [],
   "source": [
    "Hyperparameters = {\"C\": 100, \"epsilon\": 0.1, \"gamma\": \"scale\", \"kernel\": \"rbf\", \"max_iter\": -1, \"tol\": 0.0001, \"verbose\": 0}\n",
    "\n",
    "model = SVR(**Hyperparameters)\n",
    "\n",
    "L = 4"
   ]
  },
  {
   "cell_type": "code",
   "execution_count": 3,
   "id": "21adc1e7",
   "metadata": {},
   "outputs": [
    {
     "name": "stdout",
     "output_type": "stream",
     "text": [
      "ALA-ALA-ARG-PRO-MET-GLY --> AARPMG\n",
      "      Judred_NH2  Judred_MW  Judred_S  Judred_LogP WW  Judred_Z  \\\n",
      "AAAA       -1.00  -0.782750      -1.0        0.291926      0.00   \n",
      "AAAC       -1.00  -0.658640      -0.5        0.309006      0.00   \n",
      "AACN       -0.75  -0.492103      -0.5        0.293478      0.00   \n",
      "AAQW       -0.75  -0.116213      -1.0        0.402174      0.00   \n",
      "AAEQ       -0.75  -0.337256      -1.0        0.114907     -0.25   \n",
      "...          ...        ...       ...             ...       ...   \n",
      "VVVC       -1.00  -0.332882      -0.5        0.709627      0.00   \n",
      "VVVF       -1.00  -0.162434      -1.0        0.833851      0.00   \n",
      "VVVW       -1.00  -0.011304      -1.0        0.781056      0.00   \n",
      "VVVY       -1.00  -0.100495      -1.0        0.708075      0.00   \n",
      "VVVV       -1.00  -0.348405      -1.0        0.826087      0.00   \n",
      "\n",
      "      Judred_MaxASA  Judred_SP2  Judred_RotRatio  Judred_Bulkiness  Judred_OH  \n",
      "AAAA      -0.723757     -1.0000        -1.000000         -0.113300       -1.0  \n",
      "AAAC      -0.618785     -1.0000        -1.000000         -0.059661       -1.0  \n",
      "AACN      -0.436464     -0.9375        -0.937500         -0.023536       -1.0  \n",
      "AAQW      -0.027624     -0.4375        -0.550000          0.245758       -1.0  \n",
      "AAEQ      -0.198895     -0.8750        -0.916667          0.024083       -1.0  \n",
      "...             ...         ...              ...               ...        ...  \n",
      "VVVC      -0.245856     -1.0000        -1.000000          0.767104       -1.0  \n",
      "VVVF      -0.044199     -0.6250        -0.850000          0.940613       -1.0  \n",
      "VVVW       0.080111     -0.5000        -0.800000          0.991790       -1.0  \n",
      "VVVY       0.019337     -0.6250        -0.850000          0.892173       -0.5  \n",
      "VVVV      -0.226519     -1.0000        -1.000000          0.989053       -1.0  \n",
      "\n",
      "[17665 rows x 10 columns]\n",
      "             1\n",
      "AAAA  1.062640\n",
      "AAAC  1.103924\n",
      "AACN  1.168115\n",
      "AAQW  1.740687\n",
      "AAEQ  1.064391\n",
      "...        ...\n",
      "VVVC  2.016710\n",
      "VVVF  2.272662\n",
      "VVVW  2.345190\n",
      "VVVY  2.291805\n",
      "VVVV  2.079618\n",
      "\n",
      "[17665 rows x 1 columns]\n"
     ]
    }
   ],
   "source": [
    "parameters = pandas.read_csv(\"Tetrapeptides_Judred.csv\", index_col=0)\n",
    "\n",
    "\n",
    "# This dataset stores peptides as 3-letter codes, so we need to translate to make it concur with the input parameters dataset\n",
    "targets = pandas.read_csv(\"APs_Beyond.txt\", index_col = 0, header=None, sep=\" \")\n",
    "\n",
    "def translate3to1(string):\n",
    "    code = string.split(\"-\")\n",
    "    new_string = \"\"\n",
    "    for AA in code:\n",
    "        if AA == \"HIS\":\n",
    "            AA = \"HSE\"\n",
    "        index = np.where(letters_3 == AA)[0]\n",
    "        new_string = new_string + str(letters_1[index][0])\n",
    "    return \"\".join(new_string)\n",
    "\n",
    "print(\"ALA-ALA-ARG-PRO-MET-GLY\", \"-->\", translate3to1(\"ALA-ALA-ARG-PRO-MET-GLY\"))\n",
    "\n",
    "targets.index = [translate3to1(index) for index in targets.index]\n",
    "\n",
    "\n",
    "# Filter for tetrapeptides\n",
    "targets = targets.reindex([x for x in targets.index if len(x) == L])\n",
    "\n",
    "#Make sure that parameters and their targets are indexed in the same order\n",
    "# In this case we havent got results for all 20^4 tetrapeptides so we also remove parameters we dont have AP's for\n",
    "\n",
    "parameters = parameters.reindex(targets.index)\n",
    "print(parameters)\n",
    "print(targets)"
   ]
  },
  {
   "cell_type": "markdown",
   "id": "04b29ada",
   "metadata": {},
   "source": [
    "## Lets take a single value for our starting point"
   ]
  },
  {
   "cell_type": "code",
   "execution_count": 25,
   "id": "3482db80",
   "metadata": {},
   "outputs": [
    {
     "name": "stdout",
     "output_type": "stream",
     "text": [
      "Starting with dataset: AAAA\n"
     ]
    }
   ],
   "source": [
    "starting_point = \"A\"*L\n",
    "print(\"Starting with dataset:\", starting_point)"
   ]
  },
  {
   "cell_type": "code",
   "execution_count": 31,
   "id": "b960f5fc",
   "metadata": {},
   "outputs": [
    {
     "name": "stdout",
     "output_type": "stream",
     "text": [
      "Running for 5 iterations\n",
      "Iteration: 0\n",
      "0 Best AP scoring peptide found: VVVV 2.0796183413798293\n",
      "['AAAA', 'HFDI', 'HFDD', 'HFNV', 'HFQA', 'VVVV']\n",
      "Iteration: 1\n",
      "1 Best AP scoring peptide found: WIIL 2.3843281662906417\n",
      "['AAAA', 'HFDI', 'HFDD', 'HFNV', 'HFQA', 'VVVV', 'WILI', 'WIIL', 'WLII', 'IWLI', 'IIIW']\n",
      "Iteration: 2\n",
      "2 Best AP scoring peptide found: WIIL 2.3843281662906417\n",
      "['AAAA', 'HFDI', 'HFDD', 'HFNV', 'HFQA', 'VVVV', 'WILI', 'WIIL', 'WLII', 'IWLI', 'IIIW', 'IWLL', 'WILL', 'LIIW', 'IILW', 'ILIW']\n",
      "Iteration: 3\n",
      "3 Best AP scoring peptide found: WIIL 2.3843281662906417\n",
      "['AAAA', 'HFDI', 'HFDD', 'HFNV', 'HFQA', 'VVVV', 'WILI', 'WIIL', 'WLII', 'IWLI', 'IIIW', 'IWLL', 'WILL', 'LIIW', 'IILW', 'ILIW', 'ILWL', 'LLWI', 'WLLI', 'LWIL', 'LIWL']\n",
      "Iteration: 4\n",
      "4 Best AP scoring peptide found: WIIL 2.3843281662906417\n",
      "['AAAA', 'HFDI', 'HFDD', 'HFNV', 'HFQA', 'VVVV', 'WILI', 'WIIL', 'WLII', 'IWLI', 'IIIW', 'IWLL', 'WILL', 'LIIW', 'IILW', 'ILIW', 'ILWL', 'LLWI', 'WLLI', 'LWIL', 'LIWL', 'IIWW', 'WIIW', 'WIWI', 'IWIW', 'WWII']\n"
     ]
    }
   ],
   "source": [
    "\n",
    "TrainingSet = [starting_point]\n",
    "\n",
    "Iterations = 5\n",
    "print(\"Running for\", Iterations, \"iterations\")\n",
    "for i in range(Iterations):\n",
    "    print(\"Iteration:\", i)\n",
    "    # Train the model\n",
    "    model.fit(parameters.reindex(TrainingSet), targets.reindex(TrainingSet))\n",
    "    #Predict AP scores for the rest of the dataset\n",
    "    predictions = model.predict(parameters.drop(TrainingSet))\n",
    "    # Measure RMSE of the model\n",
    "    rmse = mean_squared_error(targets.drop(TrainingSet).values.flatten(), predictions, squared=False)\n",
    "    #Take the top scoring peptides and move them to the training set\n",
    "    predictions = pandas.DataFrame(predictions, index=parameters.drop(TrainingSet).index, columns=[\"Predicted AP\"])\n",
    "    predictions = predictions.sort_values(\"Predicted AP\")\n",
    "    TrainingSet += list(predictions.iloc[-5:].index)\n",
    "    \n",
    "    #See what our best peptide is\n",
    "    Best = targets.reindex(TrainingSet).sort_values(1).iloc[-1]\n",
    "    print(i, \"Best AP scoring peptide found:\", Best.name, float(Best))\n",
    "    print(\"Training set:\", TrainingSet)"
   ]
  },
  {
   "cell_type": "markdown",
   "id": "143792de",
   "metadata": {},
   "source": [
    "## You may notice the chemical diversity is limited with this method.\n",
    "### We can force it to work hard by not allowing it access to charge neutral, insoluble peptides"
   ]
  },
  {
   "cell_type": "code",
   "execution_count": null,
   "id": "674d57e1",
   "metadata": {},
   "outputs": [],
   "source": []
  },
  {
   "cell_type": "markdown",
   "id": "4b046d56",
   "metadata": {},
   "source": [
    "# Challenge\n",
    "## Remake this using a different machine learning algorithm"
   ]
  },
  {
   "cell_type": "code",
   "execution_count": 4,
   "id": "17ee0850",
   "metadata": {},
   "outputs": [],
   "source": [
    "#..."
   ]
  }
 ],
 "metadata": {
  "kernelspec": {
   "display_name": "Python 3 (ipykernel)",
   "language": "python",
   "name": "python3"
  },
  "language_info": {
   "codemirror_mode": {
    "name": "ipython",
    "version": 3
   },
   "file_extension": ".py",
   "mimetype": "text/x-python",
   "name": "python",
   "nbconvert_exporter": "python",
   "pygments_lexer": "ipython3",
   "version": "3.8.5"
  }
 },
 "nbformat": 4,
 "nbformat_minor": 5
}
