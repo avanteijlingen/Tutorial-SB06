{
 "cells": [
  {
   "cell_type": "code",
   "execution_count": null,
   "id": "94e91b79",
   "metadata": {},
   "outputs": [],
   "source": [
    "from sklearn.svm import SVR\n",
    "from sklearn.ensemble import RandomForestRegressor, GradientBoostingRegressor\n",
    "from sklearn.model_selection import GridSearchCV, train_test_split, KFold\n",
    "import matplotlib.pyplot as plt\n",
    "import numpy as np\n",
    "import os, pandas, warnings\n",
    "from sklearn.neural_network import MLPRegressor\n",
    "from sklearn.metrics import mean_squared_error, r2_score\n",
    "\n",
    "Seed = 72993\n",
    "np.random.seed(Seed)\n",
    "nJobs = 2\n",
    "\n",
    "warnings.filterwarnings(\"ignore\")\n",
    "\n",
    "letters_1 = np.array([\"A\", \"C\", \"D\", \"E\", \"F\", \"G\", \"H\", \"I\", \"K\", \"L\", \"M\", \"N\", \"P\", \"Q\", \"R\", \"S\", \"T\", \"V\", \"W\", \"Y\"])\n",
    "letters_3 = np.array(['ALA', 'CYS', 'ASP', 'GLU', 'PHE', 'GLY', 'HSE', 'ILE', 'LYS', 'LEU', 'MET', 'ASN', 'PRO', 'GLN', 'ARG', 'SER', 'THR', 'VAL', 'TRP', 'TYR'], dtype='<U3')\n"
   ]
  },
  {
   "cell_type": "markdown",
   "id": "160d70dc",
   "metadata": {},
   "source": [
    "#### You will need to run Judred with L = 4 to get the parameters for running this"
   ]
  },
  {
   "cell_type": "code",
   "execution_count": null,
   "id": "77a43ae9",
   "metadata": {},
   "outputs": [],
   "source": [
    "Hyperparameters = {\"C\": 100, \"epsilon\": 0.1, \"gamma\": \"scale\", \"kernel\": \"rbf\", \"max_iter\": -1, \"tol\": 0.0001, \"verbose\": 0}\n",
    "\n",
    "model = SVR(**Hyperparameters)\n",
    "\n",
    "L = 4"
   ]
  },
  {
   "cell_type": "code",
   "execution_count": null,
   "id": "ba209ea3",
   "metadata": {},
   "outputs": [],
   "source": [
    "parameters = pandas.read_csv(\"Tetrapeptides_Judred.csv\", index_col=0)\n",
    "\n",
    "\n",
    "# This dataset stores peptides as 3-letter codes, so we need to translate to make it concur with the input parameters dataset\n",
    "targets = pandas.read_csv(\"APs_Beyond.txt\", index_col = 0, header=None, sep=\" \")\n",
    "\n",
    "def translate3to1(string):\n",
    "    code = string.split(\"-\")\n",
    "    new_string = \"\"\n",
    "    for AA in code:\n",
    "        if AA == \"HIS\":\n",
    "            AA = \"HSE\"\n",
    "        index = np.where(letters_3 == AA)[0]\n",
    "        new_string = new_string + str(letters_1[index][0])\n",
    "    return \"\".join(new_string)\n",
    "\n",
    "print(\"ALA-ALA-ARG-PRO-MET-GLY\", \"-->\", translate3to1(\"ALA-ALA-ARG-PRO-MET-GLY\"))\n",
    "\n",
    "targets.index = [translate3to1(index) for index in targets.index]\n",
    "\n",
    "\n",
    "# Filter for tetrapeptides\n",
    "targets = targets.reindex([x for x in targets.index if len(x) == L])\n",
    "\n",
    "#Make sure that parameters and their targets are indexed in the same order\n",
    "# In this case we havent got results for all 20^4 tetrapeptides so we also remove parameters we dont have AP's for\n",
    "\n",
    "parameters = parameters.reindex(targets.index)\n",
    "print(parameters)\n",
    "print(targets)"
   ]
  },
  {
   "cell_type": "markdown",
   "id": "cd235b54",
   "metadata": {},
   "source": [
    "## Lets take a single value for our starting point"
   ]
  },
  {
   "cell_type": "code",
   "execution_count": null,
   "id": "6a5ce6fa",
   "metadata": {},
   "outputs": [],
   "source": [
    "starting_point = \"W\"*L\n",
    "print(\"Starting with dataset:\", starting_point)"
   ]
  },
  {
   "cell_type": "code",
   "execution_count": null,
   "id": "30654521",
   "metadata": {},
   "outputs": [],
   "source": [
    "\n",
    "TrainingSet = [starting_point]\n",
    "\n",
    "Iterations = 5\n",
    "print(\"Running for\", Iterations, \"iterations\")\n",
    "for i in range(Iterations):\n",
    "    print(\"Iteration:\", i)\n",
    "    # Train the model\n",
    "    model.fit(parameters.reindex(TrainingSet), targets.reindex(TrainingSet))\n",
    "    #Predict AP scores for the rest of the dataset\n",
    "    predictions = model.predict(parameters.drop(TrainingSet))\n",
    "    # Measure RMSE of the model\n",
    "    rmse = mean_squared_error(targets.drop(TrainingSet).values.flatten(), predictions, squared=False)\n",
    "    #Take the top scoring peptides and move them to the training set\n",
    "    predictions = pandas.DataFrame(predictions, index=parameters.drop(TrainingSet).index, columns=[\"Predicted AP\"])\n",
    "    predictions = predictions.sort_values(\"Predicted AP\")\n",
    "    TrainingSet += list(predictions.iloc[-5:].index)\n",
    "    \n",
    "    #See what our best peptide is\n",
    "    Best = targets.reindex(TrainingSet).sort_values(1).iloc[-1]\n",
    "    print(i, \"Best AP scoring peptide found:\", Best.name, float(Best))\n",
    "    print(\"Training set:\", TrainingSet)"
   ]
  },
  {
   "cell_type": "markdown",
   "id": "39ff8fe0",
   "metadata": {},
   "source": [
    "## You may notice the chemical diversity is limited with this method.\n",
    "### We can force it to work hard by not allowing it access to charge neutral, insoluble peptides"
   ]
  },
  {
   "cell_type": "code",
   "execution_count": null,
   "id": "cff2f35a",
   "metadata": {},
   "outputs": [],
   "source": [
    "# Filter to the parameters file to only include Judred_Z != 0\n",
    "# Reindex the APs so it lines up with the parameters file\n",
    "# Rerun the for loop"
   ]
  },
  {
   "cell_type": "markdown",
   "id": "300cae57",
   "metadata": {},
   "source": [
    "### We can also a small Monte Carlo operation to diverisy our choices"
   ]
  },
  {
   "cell_type": "code",
   "execution_count": null,
   "id": "529c8718",
   "metadata": {},
   "outputs": [],
   "source": [
    "def MC():\n",
    "    pass\n",
    "#Define a function that randomly modifies AP scores in a way that would leave most of the top scores in their relative positions\n",
    "#Apply it to the predictions and select the new training data from the new list"
   ]
  },
  {
   "cell_type": "markdown",
   "id": "d77cc08c",
   "metadata": {},
   "source": [
    "# Challenge\n",
    "## Remake this using a different machine learning algorithm"
   ]
  },
  {
   "cell_type": "code",
   "execution_count": null,
   "id": "aec7c691",
   "metadata": {},
   "outputs": [],
   "source": [
    "#..."
   ]
  }
 ],
 "metadata": {
  "kernelspec": {
   "display_name": "Python 3 (ipykernel)",
   "language": "python",
   "name": "python3"
  },
  "language_info": {
   "codemirror_mode": {
    "name": "ipython",
    "version": 3
   },
   "file_extension": ".py",
   "mimetype": "text/x-python",
   "name": "python",
   "nbconvert_exporter": "python",
   "pygments_lexer": "ipython3",
   "version": "3.10.9"
  }
 },
 "nbformat": 4,
 "nbformat_minor": 5
}
