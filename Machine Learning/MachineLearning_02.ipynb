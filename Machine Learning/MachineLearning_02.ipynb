{
 "cells": [
  {
   "cell_type": "code",
   "execution_count": 1,
   "id": "864f6875",
   "metadata": {},
   "outputs": [],
   "source": [
    "# Now we are going to test and implement more advanced machine learning algorithms"
   ]
  },
  {
   "cell_type": "code",
   "execution_count": 21,
   "id": "6e73a2c8",
   "metadata": {},
   "outputs": [],
   "source": [
    "from sklearn.svm import SVR\n",
    "from sklearn.ensemble import RandomForestRegressor, GradientBoostingRegressor\n",
    "from sklearn.model_selection import GridSearchCV, train_test_split, KFold\n",
    "import matplotlib.pyplot as plt\n",
    "import numpy as np\n",
    "import os, pandas, warnings\n",
    "from sklearn.neural_network import MLPRegressor\n",
    "\n",
    "Seed = 72993\n",
    "np.random.seed(Seed)\n",
    "nJobs = 2\n",
    "\n",
    "warnings.filterwarnings(\"ignore\")"
   ]
  },
  {
   "cell_type": "markdown",
   "id": "d5c60730",
   "metadata": {},
   "source": [
    "# Load our data as before"
   ]
  },
  {
   "cell_type": "code",
   "execution_count": 3,
   "id": "c51c285d",
   "metadata": {},
   "outputs": [],
   "source": [
    "parameters = pandas.read_csv(\"Judred.csv\", index_col=0)\n",
    "#print(parameters)\n",
    "targets = pandas.read_csv(\"APs.csv\", index_col = 0)\n",
    "#print(targets)\n",
    "\n",
    "Forcefield = \"2.1\"\n",
    "targets = targets[targets[\"FF\"] == Forcefield]\n",
    "targets.index = targets[\"pep\"]\n",
    "\n",
    "targets = targets[\"mean\"]\n",
    "X_train, X_val, y_train, y_val = train_test_split(parameters, targets, test_size=0.33, random_state=9876, shuffle=True)\n",
    "X_train, X_test, y_train, y_test = train_test_split(X_train, y_train, test_size=0.33, random_state=9876, shuffle=True)"
   ]
  },
  {
   "cell_type": "markdown",
   "id": "2a496272",
   "metadata": {},
   "source": [
    "##### We will now perform hyperparameter optimization for several models and rank them against each other. Due to limit time we are keeping the number of combinations of hyperparameters relatively small but you can play around with it to make further improvements.\n",
    "\n",
    "Due to the way Jupyter notebooks works, dont move onto the next block of code after running a hyperparameter optimization until you see the console print: \"Best params from grid search: ....\""
   ]
  },
  {
   "cell_type": "markdown",
   "id": "ecd440b3",
   "metadata": {},
   "source": [
    "# SVM rbf"
   ]
  },
  {
   "cell_type": "code",
   "execution_count": 4,
   "id": "92bb5deb",
   "metadata": {},
   "outputs": [],
   "source": [
    "# Define the hyperparameters we want to test\n",
    "SVRrbf_param_grid = {\n",
    "        \"kernel\": [\"rbf\"],\n",
    "        \"gamma\": [\"scale\", \"auto\"],\n",
    "        \"C\": np.linspace(0.1, 1, 10), \n",
    "        \"epsilon\": np.linspace(0.1, 1, 10), \n",
    "        \"max_iter\": np.linspace(1000, 10000, 10).astype(np.int64),\n",
    "        \"tol\": [0.01, 0.001, 0.0001], \n",
    "        \"verbose\":[0]}"
   ]
  },
  {
   "cell_type": "code",
   "execution_count": 19,
   "id": "34e78a06",
   "metadata": {},
   "outputs": [
    {
     "name": "stdout",
     "output_type": "stream",
     "text": [
      "Fitting 5 folds for each of 6000 candidates, totalling 30000 fits\n",
      "\n",
      "Best params from grid search:\n",
      "{'C': 0.6, 'epsilon': 0.1, 'gamma': 'scale', 'kernel': 'rbf', 'max_iter': 100, 'tol': 0.0001, 'verbose': 0}\n"
     ]
    },
    {
     "name": "stderr",
     "output_type": "stream",
     "text": [
      "C:\\Users\\avtei\\Anaconda3\\lib\\site-packages\\sklearn\\svm\\_base.py:284: ConvergenceWarning: Solver terminated early (max_iter=100).  Consider pre-processing your data with StandardScaler or MinMaxScaler.\n",
      "  warnings.warn(\n"
     ]
    }
   ],
   "source": [
    "model = SVR()\n",
    "HPO_model = GridSearchCV(estimator = model, param_grid = SVRrbf_param_grid, cv = 5, n_jobs = nJobs, verbose = True, error_score=0.0)\n",
    "HPO_model.fit(X_train.values, y_train.values.reshape(-1))\n",
    "print(\"\\nBest params from grid search:\")\n",
    "print(HPO_model.best_params_)\n",
    "SVMrbf_hyperparameters = HPO_model.best_params_\n",
    "    "
   ]
  },
  {
   "cell_type": "markdown",
   "id": "d8f4fed4",
   "metadata": {},
   "source": [
    "# Random forest"
   ]
  },
  {
   "cell_type": "code",
   "execution_count": 11,
   "id": "5516e955",
   "metadata": {},
   "outputs": [],
   "source": [
    "RF_param_grid = {'bootstrap': [True, False],\n",
    "                  'criterion': ['mse', 'absolute_error'],\n",
    "                  'max_depth': [None],\n",
    "                  'max_features': [\"sqrt\", \"log2\", None],\n",
    "                  'max_leaf_nodes': [None],\n",
    "                  'min_impurity_decrease': [0.0],\n",
    "                  'min_samples_leaf': [1, 2],\n",
    "                  'min_samples_split': [0.5, 1.0],\n",
    "                  'min_weight_fraction_leaf': [0.0, 0.01, 0.1],\n",
    "                  'n_estimators': [10, 100],\n",
    "                  'n_jobs': [nJobs],\n",
    "                  'oob_score': [False],\n",
    "                  'verbose': [False],\n",
    "                  'warm_start': [False, True],\n",
    "                  \"random_state\":[Seed]}"
   ]
  },
  {
   "cell_type": "code",
   "execution_count": 12,
   "id": "07bc2e64",
   "metadata": {},
   "outputs": [
    {
     "name": "stdout",
     "output_type": "stream",
     "text": [
      "Fitting 5 folds for each of 576 candidates, totalling 2880 fits\n",
      "\n",
      "Best params from grid search:\n",
      "{'bootstrap': True, 'criterion': 'mae', 'max_depth': None, 'max_features': None, 'max_leaf_nodes': None, 'min_impurity_decrease': 0.0, 'min_samples_leaf': 1, 'min_samples_split': 0.5, 'min_weight_fraction_leaf': 0.1, 'n_estimators': 100, 'n_jobs': 2, 'oob_score': False, 'random_state': 72993, 'verbose': False, 'warm_start': False}\n"
     ]
    },
    {
     "name": "stderr",
     "output_type": "stream",
     "text": [
      "C:\\Users\\avtei\\Anaconda3\\lib\\site-packages\\sklearn\\ensemble\\_forest.py:395: FutureWarning: Criterion 'mae' was deprecated in v1.0 and will be removed in version 1.2. Use `criterion='absolute_error'` which is equivalent.\n",
      "  warn(\n"
     ]
    }
   ],
   "source": [
    "model = RandomForestRegressor()\n",
    "\n",
    "HPO_model = GridSearchCV(estimator=model, param_grid=RF_param_grid, cv = 5, n_jobs = nJobs, verbose = True, error_score=0.0)\n",
    "HPO_model.fit(X_train.values, y_train.values.reshape(-1))\n",
    "print(\"\\nBest params from grid search:\")\n",
    "print(HPO_model.best_params_)\n",
    "RF_hyperparameters = HPO_model.best_params_\n"
   ]
  },
  {
   "cell_type": "code",
   "execution_count": 13,
   "id": "ab0c6346",
   "metadata": {},
   "outputs": [
    {
     "name": "stdout",
     "output_type": "stream",
     "text": [
      "{'bootstrap': True, 'criterion': 'mae', 'max_depth': None, 'max_features': None, 'max_leaf_nodes': None, 'min_impurity_decrease': 0.0, 'min_samples_leaf': 1, 'min_samples_split': 0.5, 'min_weight_fraction_leaf': 0.1, 'n_estimators': 100, 'n_jobs': 2, 'oob_score': False, 'random_state': 72993, 'verbose': False, 'warm_start': False}\n"
     ]
    }
   ],
   "source": [
    "print(RF_hyperparameters)"
   ]
  },
  {
   "cell_type": "markdown",
   "id": "32773b9a",
   "metadata": {},
   "source": [
    "# Deep Neural Network"
   ]
  },
  {
   "cell_type": "code",
   "execution_count": 16,
   "id": "26fb297b",
   "metadata": {},
   "outputs": [],
   "source": [
    "MLP_param_grid = {\n",
    "        \"activation\": [\"relu\"],\n",
    "        \"alpha\":[0.0001, 0.1],\n",
    "        \"batch_size\": [20],\n",
    "        \"early_stopping\":[True],\n",
    "        #epsilon\n",
    "        \"hidden_layer_sizes\": [(10,), (10,2), (10,3)] + [(100,), (100,2), (100,3)],\n",
    "        \"learning_rate\":[\"adaptive\"],\n",
    "        \"learning_rate_init\": [0.001],\n",
    "        \"max_iter\":[100, 1000],\n",
    "        #momentum\n",
    "        #\"power_t\":[0.25, 0.5, 0.75], \n",
    "        \"random_state\":[Seed], \n",
    "        \"shuffle\":[False], \n",
    "        \"solver\": [\"sgd\", \"adam\"],\n",
    "        \"tol\": [0.01, 0.1], \n",
    "        \"validation_fraction\":[0.1],\n",
    "        \"n_iter_no_change\": [5, 10],\n",
    "        \"verbose\":[0]}"
   ]
  },
  {
   "cell_type": "code",
   "execution_count": 17,
   "id": "5add939a",
   "metadata": {},
   "outputs": [
    {
     "name": "stdout",
     "output_type": "stream",
     "text": [
      "Fitting 5 folds for each of 192 candidates, totalling 960 fits\n",
      "\n",
      "Best params from grid search:\n",
      "{'activation': 'relu', 'alpha': 0.1, 'batch_size': 20, 'early_stopping': True, 'hidden_layer_sizes': (100,), 'learning_rate': 'adaptive', 'learning_rate_init': 0.001, 'max_iter': 100, 'n_iter_no_change': 10, 'random_state': 72993, 'shuffle': False, 'solver': 'adam', 'tol': 0.01, 'validation_fraction': 0.1, 'verbose': 0}\n"
     ]
    }
   ],
   "source": [
    "model = MLPRegressor()\n",
    "HPO_model = GridSearchCV(estimator = model, param_grid = MLP_param_grid, cv = 5, n_jobs = nJobs, verbose = True, error_score=0.0)\n",
    "HPO_model.fit(X_train.values, y_train.values.reshape(-1))\n",
    "\n",
    "print(\"\\nBest params from grid search:\")\n",
    "print(HPO_model.best_params_)\n",
    "MLP_hyperparameters = HPO_model.best_params_"
   ]
  },
  {
   "cell_type": "markdown",
   "id": "fe25338a",
   "metadata": {},
   "source": [
    "# Test and compare"
   ]
  },
  {
   "cell_type": "code",
   "execution_count": 22,
   "id": "849e21a3",
   "metadata": {},
   "outputs": [
    {
     "data": {
      "text/plain": [
       "MLPRegressor(alpha=0.1, batch_size=20, early_stopping=True,\n",
       "             learning_rate='adaptive', max_iter=100, random_state=72993,\n",
       "             shuffle=False, tol=0.01, verbose=0)"
      ]
     },
     "execution_count": 22,
     "metadata": {},
     "output_type": "execute_result"
    }
   ],
   "source": [
    "SVMmodel = SVR(**SVMrbf_hyperparameters)\n",
    "RFmodel = RandomForestRegressor(**RF_hyperparameters)\n",
    "DNNmodel = MLPRegressor(**MLP_hyperparameters)\n",
    "\n",
    "SVMmodel.fit(X_train, y_train)\n",
    "RFmodel.fit(X_train, y_train)\n",
    "DNNmodel.fit(X_train, y_train)\n",
    "\n",
    "SVM_predictions = SVMmodel.predict(X_val)\n",
    "RF_predictions = RFmodel.predict(X_val)\n",
    "DNN_predictions = DNNmodel.predict(X_val)\n",
    "\n",
    "SVM_rmse = RMSE = mean_squared_error(y_val, predictions, squared=False)"
   ]
  },
  {
   "cell_type": "code",
   "execution_count": null,
   "id": "1ef269d5",
   "metadata": {},
   "outputs": [],
   "source": []
  }
 ],
 "metadata": {
  "kernelspec": {
   "display_name": "Python 3 (ipykernel)",
   "language": "python",
   "name": "python3"
  },
  "language_info": {
   "codemirror_mode": {
    "name": "ipython",
    "version": 3
   },
   "file_extension": ".py",
   "mimetype": "text/x-python",
   "name": "python",
   "nbconvert_exporter": "python",
   "pygments_lexer": "ipython3",
   "version": "3.8.5"
  }
 },
 "nbformat": 4,
 "nbformat_minor": 5
}
